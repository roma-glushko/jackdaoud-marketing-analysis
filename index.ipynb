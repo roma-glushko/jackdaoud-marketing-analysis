{
 "cells": [
  {
   "cell_type": "code",
   "execution_count": 1,
   "metadata": {},
   "outputs": [],
   "source": [
    "import pandas as pd\n",
    "import matplotlib.pyplot as plt\n",
    "import seaborn as sns"
   ]
  },
  {
   "cell_type": "markdown",
   "metadata": {},
   "source": [
    "# Marketing Analysis\n",
    "\n",
    "### Story\n",
    "\n",
    "We are a marketing analyst team and we've been told by the CMO that recent marketing campaigns have not been as effective as they were expected to be. \n",
    "\n",
    "### Goal\n",
    "\n",
    "We need to analyze the dataset to understand this problem and propose data-driven solutions.\n"
   ]
  },
  {
   "cell_type": "code",
   "execution_count": 2,
   "metadata": {},
   "outputs": [],
   "source": [
    "campaign_df = pd.read_csv('data/marketing_data.csv')"
   ]
  },
  {
   "cell_type": "code",
   "execution_count": 3,
   "metadata": {},
   "outputs": [
    {
     "name": "stdout",
     "output_type": "stream",
     "text": [
      "<class 'pandas.core.frame.DataFrame'>\n",
      "RangeIndex: 2240 entries, 0 to 2239\n",
      "Data columns (total 28 columns):\n",
      " #   Column               Non-Null Count  Dtype \n",
      "---  ------               --------------  ----- \n",
      " 0   ID                   2240 non-null   int64 \n",
      " 1   Year_Birth           2240 non-null   int64 \n",
      " 2   Education            2240 non-null   object\n",
      " 3   Marital_Status       2240 non-null   object\n",
      " 4    Income              2216 non-null   object\n",
      " 5   Kidhome              2240 non-null   int64 \n",
      " 6   Teenhome             2240 non-null   int64 \n",
      " 7   Dt_Customer          2240 non-null   object\n",
      " 8   Recency              2240 non-null   int64 \n",
      " 9   MntWines             2240 non-null   int64 \n",
      " 10  MntFruits            2240 non-null   int64 \n",
      " 11  MntMeatProducts      2240 non-null   int64 \n",
      " 12  MntFishProducts      2240 non-null   int64 \n",
      " 13  MntSweetProducts     2240 non-null   int64 \n",
      " 14  MntGoldProds         2240 non-null   int64 \n",
      " 15  NumDealsPurchases    2240 non-null   int64 \n",
      " 16  NumWebPurchases      2240 non-null   int64 \n",
      " 17  NumCatalogPurchases  2240 non-null   int64 \n",
      " 18  NumStorePurchases    2240 non-null   int64 \n",
      " 19  NumWebVisitsMonth    2240 non-null   int64 \n",
      " 20  AcceptedCmp3         2240 non-null   int64 \n",
      " 21  AcceptedCmp4         2240 non-null   int64 \n",
      " 22  AcceptedCmp5         2240 non-null   int64 \n",
      " 23  AcceptedCmp1         2240 non-null   int64 \n",
      " 24  AcceptedCmp2         2240 non-null   int64 \n",
      " 25  Response             2240 non-null   int64 \n",
      " 26  Complain             2240 non-null   int64 \n",
      " 27  Country              2240 non-null   object\n",
      "dtypes: int64(23), object(5)\n",
      "memory usage: 490.1+ KB\n"
     ]
    }
   ],
   "source": [
    "campaign_df.info()"
   ]
  },
  {
   "cell_type": "markdown",
   "metadata": {},
   "source": [
    "Marketing campaign dataset contains information about:\n",
    "\n",
    "### Customer Profile\n",
    "\n",
    "- **Year_Birth**\n",
    "- **Education**\n",
    "- **Marial Status**\n",
    "- **Income** - Yearly Household Income\n",
    "- **Kidhome** - Number of children in household\n",
    "- **Teenhome** - Number of teenagers in household\n",
    "- **Country** - customer location\n",
    "\n",
    "### Product Preferences\n",
    "\n",
    "- MntWines - amount spent on wine in the last 2 years\n",
    "- MntFruits - amount spent on fruits in the last 2 years\n",
    "- MntMeatProducts - amount spent on meat in the last 2 years\n",
    "- MntFishProducts - amount spent on fish in the last 2 years\n",
    "- MntSweetProducts - amount spent on sweets in the last 2 years\n",
    "- MntGoldProducts - amount spent on gold in the last 2 years\n",
    "\n",
    "### Channel Preferences\n",
    "\n",
    "- NumDealsPurchases - number of purchases made with a discount\n",
    "- NumWebPurchases - number of purchases made through the company web site\n",
    "\n",
    "### Campaign Result\n",
    "\n",
    "- Dt_Customer - date of customer's enrollment with the company\n",
    "- Recency - number of days since customer's last purchase\n",
    "- Complain - flag if customer complained in the last 2 years\n",
    "- Response - flag if customer accepted the offer int the last 2 years\n",
    "\n"
   ]
  },
  {
   "cell_type": "markdown",
   "metadata": {},
   "source": [
    "# Exploratory Data Analysis\n",
    "\n",
    "## Section Goals\n",
    "\n",
    "- Are there any null values or outliers? How will you wrangle/handle them?\n",
    "- Are there any variables that warrant transformations?\n",
    "- Are there any useful variables that you can engineer with the given data?\n",
    "- Do you notice any patterns or anomalies in the data? Can you plot them?"
   ]
  },
  {
   "cell_type": "markdown",
   "metadata": {},
   "source": [
    "# Statistical Analysis\n",
    "\n",
    "### Section Goals\n",
    "\n",
    "- What factors are significantly related to the number of store purchases?\n",
    "- Does US fare significantly better than the Rest of the World in terms of total purchases?\n",
    "- Your supervisor insists that people who buy gold are more conservative. Therefore, people who spent an above average amount on gold in the last 2 years would have more in store purchases. Justify or refute this statement using an appropriate statistical test\n",
    "- Fish has Omega 3 fatty acids which are good for the brain. Accordingly, do \"Married PhD candidates\" have a significant relation with amount spent on fish? What other factors are significantly related to amount spent on fish? (Hint: use your knowledge of interaction variables/effects)\n",
    "- Is there a significant relationship between geographical regional and success of a campaign?"
   ]
  },
  {
   "cell_type": "markdown",
   "metadata": {},
   "source": [
    "# Data Visualization\n",
    "\n",
    "### Section Goals\n",
    "\n",
    "- Which marketing campaign is most successful?\n",
    "- What does the average customer look like for this company?\n",
    "- Which products are performing best?\n",
    "- Which channels are underperforming?"
   ]
  }
 ],
 "metadata": {
  "kernelspec": {
   "display_name": "Python 3.9.1 64-bit ('.venv')",
   "metadata": {
    "interpreter": {
     "hash": "0e3c43b86990fb07403188d0ae6a1594485dc05a1795f83acd3a654797ed5931"
    }
   },
   "name": "python3"
  },
  "language_info": {
   "codemirror_mode": {
    "name": "ipython",
    "version": 3
   },
   "file_extension": ".py",
   "mimetype": "text/x-python",
   "name": "python",
   "nbconvert_exporter": "python",
   "pygments_lexer": "ipython3",
   "version": "3.9.1-final"
  },
  "orig_nbformat": 2
 },
 "nbformat": 4,
 "nbformat_minor": 2
}